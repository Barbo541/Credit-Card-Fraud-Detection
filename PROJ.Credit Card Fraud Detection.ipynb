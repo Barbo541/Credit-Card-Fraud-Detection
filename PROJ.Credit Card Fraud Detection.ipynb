{
  "nbformat": 4,
  "nbformat_minor": 0,
  "metadata": {
    "colab": {
      "provenance": [],
      "toc_visible": true
    },
    "kernelspec": {
      "name": "python3",
      "display_name": "Python 3"
    },
    "language_info": {
      "name": "python"
    }
  },
  "cells": [
    {
      "cell_type": "markdown",
      "source": [
        "# **Seção 1: Introdução e Objetivo**"
      ],
      "metadata": {
        "id": "D3xLvuBJlhmk"
      }
    },
    {
      "cell_type": "markdown",
      "source": [
        "# **Credit Card Fraud Detection**\n",
        "\n",
        "## **1.1 Introduction**\n",
        "\n",
        "Credit card fraud is a significant problem in financial systems, causing billions of dollars in losses annually. This project aims to build a machine learning model to detect fraudulent credit card transactions. By accurately identifying fraudulent activities, we can help reduce the impact of these illegal activities.\n",
        "\n",
        "## **1.2 Objective**\n",
        "\n",
        "The main objectives of this project are:\n",
        "- Load and explore the dataset to understand its structure and characteristics.\n",
        "- Preprocess the data to prepare it for model training.\n",
        "- Train and evaluate a machine learning model (Logistic Regression) to detect fraud.\n",
        "- Optimize the model using techniques such as cross-validation and hyperparameter tuning.\n",
        "- Visualize the results and interpret the model's performance.\n"
      ],
      "metadata": {
        "id": "jpwGdSIbllud"
      }
    },
    {
      "cell_type": "markdown",
      "source": [
        "# **Seção 2: Carregamento e Exploração dos Dados**"
      ],
      "metadata": {
        "id": "4qZGkA_koRDM"
      }
    },
    {
      "cell_type": "markdown",
      "source": [
        "## **2.1 Data Loading and Exploration**\n",
        "\n",
        "In this section, we'll load the dataset, explore its structure, and analyze the distribution of the target variable (fraudulent vs. legitimate transactions).\n",
        "\n",
        "### **Load Dataset**\n"
      ],
      "metadata": {
        "id": "sUdAuQlCl99T"
      }
    },
    {
      "cell_type": "code",
      "source": [
        "# Install required libraries\n",
        "!pip install scikit-learn matplotlib seaborn\n",
        "\n",
        "# Import necessary libraries\n",
        "import pandas as pd\n",
        "import seaborn as sns\n",
        "import matplotlib.pyplot as plt\n",
        "\n",
        "# Load the dataset\n",
        "file_path = 'creditcard.csv'\n",
        "data = pd.read_csv(file_path)\n",
        "\n",
        "# Display the first few rows of the dataset\n",
        "data.head()\n",
        "# Overview of the dataset\n",
        "data.info()\n",
        "\n",
        "# Summary statistics\n",
        "data.describe()\n",
        "\n",
        "# Check for missing values\n",
        "missing_values = data.isnull().sum()\n",
        "print(\"Missing Values:\\n\", missing_values)\n",
        "\n",
        "# Class distribution\n",
        "class_distribution = data['Class'].value_counts()\n",
        "print(\"Class Distribution:\\n\", class_distribution)"
      ],
      "metadata": {
        "id": "zVeCMsWnmDRj"
      },
      "execution_count": null,
      "outputs": []
    },
    {
      "cell_type": "markdown",
      "source": [
        "### **Dataset Overview**\n",
        "\n",
        "The dataset contains several features, each representing some aspect of the transaction. The target variable `Class` indicates whether the transaction is fraudulent (1) or legitimate (0).\n"
      ],
      "metadata": {
        "id": "cCgonimomfuz"
      }
    },
    {
      "cell_type": "code",
      "source": [
        "\n",
        "# Check the shape of the dataset\n",
        "print(f\"Dataset contains {data.shape[0]} rows and {data.shape[1]} columns.\")\n",
        "\n",
        "# Summary statistics of the dataset\n",
        "data.describe()\n",
        "\n",
        "# Check for missing values\n",
        "missing_values = data.isnull().sum()\n",
        "print(f\"Missing values in the dataset: \\n{missing_values}\")"
      ],
      "metadata": {
        "id": "olOJo3S5m-Vr"
      },
      "execution_count": null,
      "outputs": []
    },
    {
      "cell_type": "markdown",
      "source": [
        "### **Class Distribution**\n",
        "\n",
        "Let's visualize the distribution of fraudulent and legitimate transactions.\n"
      ],
      "metadata": {
        "id": "onOh_p2qpAmK"
      }
    },
    {
      "cell_type": "code",
      "source": [
        "# Distribution of the target variable\n",
        "plt.figure(figsize=(6, 4))\n",
        "sns.countplot(x='Class', data=data)\n",
        "plt.title('Distribution of Target Variable (0 = Legitimate, 1 = Fraudulent)')\n",
        "plt.show()\n"
      ],
      "metadata": {
        "id": "pOCdvx_tmypv"
      },
      "execution_count": null,
      "outputs": []
    },
    {
      "cell_type": "markdown",
      "source": [
        "# **Seção 3: Pré-processamento dos Dados**"
      ],
      "metadata": {
        "id": "p6PNDXTnlKjr"
      }
    },
    {
      "cell_type": "markdown",
      "source": [
        "## **4. Data Preprocessing**\n",
        "\n",
        "Before training the model, we need to preprocess the data. This includes separating the features and target variable, splitting the data into training and test sets, and standardizing the features.\n"
      ],
      "metadata": {
        "id": "r7hG2VdnpWg5"
      }
    },
    {
      "cell_type": "code",
      "source": [
        "# Separate features (X) and target variable (y)\n",
        "X = data.drop('Class', axis=1)\n",
        "y = data['Class']\n",
        "\n",
        "# Split the data into training and test sets\n",
        "from sklearn.model_selection import train_test_split\n",
        "X_train, X_test, y_train, y_test = train_test_split(X, y, test_size=0.2, random_state=42, stratify=y)\n",
        "\n",
        "# Standardize the features\n",
        "from sklearn.preprocessing import StandardScaler\n",
        "scaler = StandardScaler()\n",
        "X_train = scaler.fit_transform(X_train)\n",
        "X_test = scaler.transform(X_test)\n"
      ],
      "metadata": {
        "id": "roxJfd1OpYCQ"
      },
      "execution_count": 6,
      "outputs": []
    },
    {
      "cell_type": "markdown",
      "source": [
        "We have now prepared the data for model training. The features have been standardized to ensure that they are on a similar scale, which helps improve model performance.\n"
      ],
      "metadata": {
        "id": "YiU7PJj7pbTR"
      }
    },
    {
      "cell_type": "markdown",
      "source": [
        "# **Seção 4: Treinamento e Avaliação do Modelo**\n"
      ],
      "metadata": {
        "id": "yic_NsT7plc7"
      }
    },
    {
      "cell_type": "markdown",
      "source": [
        "## **5. Model Training and Evaluation**\n",
        "\n",
        "In this section, we will train a Logistic Regression model to detect fraudulent transactions and evaluate its performance using various metrics.\n"
      ],
      "metadata": {
        "id": "Yl3wkLpip5Qg"
      }
    },
    {
      "cell_type": "code",
      "source": [
        "# Train the Logistic Regression model\n",
        "from sklearn.linear_model import LogisticRegression\n",
        "from sklearn.metrics import accuracy_score, confusion_matrix, classification_report, roc_auc_score, roc_curve\n",
        "model = LogisticRegression(max_iter=1000, random_state=42)\n",
        "model.fit(X_train, y_train)\n",
        "\n",
        "# Predict on the test set\n",
        "y_pred = model.predict(X_test)\n",
        "\n",
        "# Evaluate model performance\n",
        "accuracy = accuracy_score(y_test, y_pred)\n",
        "print(f\"Model Accuracy: {accuracy:.2f}\")\n",
        "\n",
        "# Confusion Matrix\n",
        "cm = confusion_matrix(y_test, y_pred)\n",
        "sns.heatmap(cm, annot=True, fmt=\"d\", cmap=\"Blues\")\n",
        "plt.title('Confusion Matrix')\n",
        "plt.xlabel('Predicted')\n",
        "plt.ylabel('Actual')\n",
        "plt.show()\n",
        "\n",
        "# Classification Report\n",
        "# Confusion matrix and classification report\n",
        "print(confusion_matrix(y_test, y_pred))\n",
        "print(classification_report(y_test, y_pred))\n",
        "\n"
      ],
      "metadata": {
        "id": "kpHfhfKgp_tq"
      },
      "execution_count": null,
      "outputs": []
    },
    {
      "cell_type": "markdown",
      "source": [
        "### **ROC-AUC Curve**\n",
        "\n",
        "The ROC-AUC curve is an important metric for binary classification problems, especially when dealing with imbalanced datasets like ours. It provides insights into the trade-off between the true positive rate and false positive rate.\n"
      ],
      "metadata": {
        "id": "M7_SlwHMqDva"
      }
    },
    {
      "cell_type": "code",
      "source": [
        "# AUC-ROC curve\n",
        "y_prob = model.predict_proba(X_test)[:, 1]\n",
        "fpr, tpr, _ = roc_curve(y_test, y_prob)\n",
        "roc_auc = roc_auc_score(y_test, y_prob)\n",
        "\n",
        "plt.figure()\n",
        "plt.plot(fpr, tpr, label=f\"AUC-ROC: {roc_auc:.2f}\")\n",
        "plt.title('AUC-ROC Curve')\n",
        "plt.xlabel('False Positive Rate')\n",
        "plt.ylabel('True Positive Rate')\n",
        "plt.legend()\n",
        "plt.show()"
      ],
      "metadata": {
        "id": "1MC5a-hWqOxQ",
        "colab": {
          "base_uri": "https://localhost:8080/",
          "height": 472
        },
        "outputId": "332f053a-bd86-4cfb-8154-034008dca131"
      },
      "execution_count": 17,
      "outputs": [
        {
          "output_type": "display_data",
          "data": {
            "text/plain": [
              "<Figure size 640x480 with 1 Axes>"
            ],
            "image/png": "[encoded data removed]"
          },
          "metadata": {}
        }
      ]
    },
    {
      "cell_type": "markdown",
      "source": [
        "# **Seção 5: Melhorias e Técnicas de Evitação de Overfitting**"
      ],
      "metadata": {
        "id": "PqwW8iubOHdG"
      }
    },
    {
      "cell_type": "markdown",
      "source": [
        "## **6. Model Optimization and Overfitting Prevention**\n",
        "\n",
        "To enhance model performance and prevent overfitting, we'll use cross-validation and hyperparameter tuning. These techniques help us find the best model configuration for our dataset.\n"
      ],
      "metadata": {
        "id": "6uz4W5cEOXFd"
      }
    },
    {
      "cell_type": "code",
      "source": [
        "# Cross-validation\n",
        "from sklearn.model_selection import cross_val_score\n",
        "import numpy as np\n",
        "\n",
        "cv_scores = cross_val_score(model, X_train, y_train, cv=5, scoring='accuracy')\n",
        "print(f\"Cross-validation Accuracy: {np.mean(cv_scores):.2f}\")\n",
        "\n",
        "# Hyperparameter tuning using Grid Search\n",
        "from sklearn.model_selection import GridSearchCV\n",
        "\n",
        "param_grid = {\n",
        "    'C': [0.01, 0.1, 1, 10, 100],\n",
        "    'penalty': ['l1', 'l2'],  # L1 = Lasso, L2 = Ridge\n",
        "    'solver': ['liblinear']\n",
        "}\n",
        "\n",
        "grid_search = GridSearchCV(LogisticRegression(max_iter=1000, random_state=42), param_grid, cv=5, scoring='accuracy')\n",
        "grid_search.fit(X_train, y_train)\n",
        "\n",
        "# Best model after optimization\n",
        "best_model = grid_search.best_estimator_\n",
        "print(\"Best Hyperparameters:\", grid_search.best_params_)\n",
        "\n",
        "# Evaluate the optimized model\n",
        "y_pred_best = best_model.predict(X_test)\n",
        "accuracy_best = accuracy_score(y_test, y_pred_best)\n",
        "print(f\"Optimized Model Accuracy: {accuracy_best:.2f}\")\n",
        "\n",
        "# Additional evaluation for the optimized model\n",
        "print(confusion_matrix(y_test, y_pred_best))\n",
        "print(classification_report(y_test, y_pred_best))\n",
        "\n",
        "# AUC-ROC for the optimized model\n",
        "y_prob_best = best_model.predict_proba(X_test)[:, 1]\n",
        "fpr, tpr, _ = roc_curve(y_test, y_prob_best)\n",
        "roc_auc_best = roc_auc_score(y_test, y_prob_best)\n",
        "\n",
        "plt.figure()\n",
        "plt.plot(fpr, tpr, label=f\"AUC-ROC: {roc_auc_best:.2f}\")\n",
        "plt.title('AUC-ROC Curve (Optimized Model)')\n",
        "plt.xlabel('False Positive Rate')\n",
        "plt.ylabel('True Positive Rate')\n",
        "plt.legend()\n",
        "plt.show()\n"
      ],
      "metadata": {
        "colab": {
          "base_uri": "https://localhost:8080/",
          "height": 715
        },
        "id": "96wRnaCYOi7D",
        "outputId": "12f2a8b5-aba1-47be-a086-85bd79d62732"
      },
      "execution_count": 12,
      "outputs": [
        {
          "output_type": "stream",
          "name": "stdout",
          "text": [
            "Cross-validation Accuracy: 1.00\n",
            "Best Hyperparameters: {'C': 1, 'penalty': 'l2', 'solver': 'liblinear'}\n",
            "Optimized Model Accuracy: 1.00\n",
            "[[56851    13]\n",
            " [   35    63]]\n",
            "              precision    recall  f1-score   support\n",
            "\n",
            "           0       1.00      1.00      1.00     56864\n",
            "           1       0.83      0.64      0.72        98\n",
            "\n",
            "    accuracy                           1.00     56962\n",
            "   macro avg       0.91      0.82      0.86     56962\n",
            "weighted avg       1.00      1.00      1.00     56962\n",
            "\n"
          ]
        },
        {
          "output_type": "display_data",
          "data": {
            "text/plain": [
              "<Figure size 640x480 with 1 Axes>"
            ],
            "image/png": "[encoded data removed]"
          },
          "metadata": {}
        }
      ]
    },
    {
      "cell_type": "markdown",
      "source": [],
      "metadata": {
        "id": "qdZOcqsnrWTF"
      }
    },
    {
      "cell_type": "markdown",
      "source": [
        "# **Seção 6: Conclusão**"
      ],
      "metadata": {
        "id": "q21E6daXOmrV"
      }
    },
    {
      "cell_type": "markdown",
      "source": [
        "## 7. Conclusion\n",
        "\n",
        "In this project, we successfully developed a machine learning model to detect fraudulent credit card transactions. The Logistic Regression model showed robust performance, especially after optimization with cross-validation and Grid Search.\n",
        "\n",
        "### Key Takeaways:\n",
        "- Data preprocessing, including scaling and splitting, was crucial for model performance.\n",
        "- The initial Logistic Regression model provided a good baseline.\n",
        "- Hyperparameter tuning and cross-validation significantly improved model accuracy and generalization.\n",
        "\n",
        "### Next Steps:\n",
        "- Deploy the model in a real-time environment to monitor performance.\n",
        "- Explore other advanced algorithms like Random Forest or XGBoost for potentially better performance.\n",
        "- Implement a full MLOps pipeline for continuous integration and deployment.\n"
      ],
      "metadata": {
        "id": "KoSQuKJ_OtBd"
      }
    },
    {
      "cell_type": "markdown",
      "source": [
        "# **README.md Completo**"
      ],
      "metadata": {
        "id": "dPDzvsAyO66l"
      }
    },
    {
      "cell_type": "markdown",
      "source": [
        "# **Credit Card Fraud Detection**\n",
        "\n",
        "## **Introduction**\n",
        "\n",
        "This project aims to build a machine learning model to detect fraudulent credit card transactions. Using a real-world dataset, we preprocess the data, train a model, optimize it, and evaluate its performance.\n",
        "\n",
        "## **Project Structure**\n",
        "\n",
        "- **notebooks/**: Contains Jupyter notebooks for data exploration, model development, and evaluation.\n",
        "- **scripts/**: Python scripts for model training, evaluation, and deployment.\n",
        "- **data/**: Example dataset files (note: no sensitive data included).\n",
        "- **images/**: Visualizations and figures used in the documentation.\n",
        "\n",
        "## **Installation**\n",
        "\n",
        "To run this project, you need to install the required libraries. You can do this by running:\n",
        "\n",
        "```bash\n",
        "pip install scikit-learn matplotlib seaborn\n"
      ],
      "metadata": {
        "id": "Tu39JC3cPQpc"
      }
    },
    {
      "cell_type": "markdown",
      "source": [
        "## **Usage**\n",
        "\n",
        "1. **Load and Explore Data**:\n",
        "   - Load the dataset and explore its structure and distribution.\n",
        "\n",
        "2. **Preprocess Data**:\n",
        "   - Standardize features and split the data into training and test sets.\n",
        "\n",
        "3. **Train and Evaluate Model**:\n",
        "   - Train a Logistic Regression model and evaluate its performance using accuracy, confusion matrix, and ROC-AUC.\n",
        "\n",
        "4. **Optimize Model**:\n",
        "   - Use cross-validation and Grid Search to optimize the model's hyperparameters.\n",
        "\n",
        "5. **Conclusion**:\n",
        "   - Summarize findings and suggest next steps.\n",
        "\n",
        "## **Conclusion**\n",
        "\n",
        "This project demonstrates the complete process of building a machine learning model for fraud detection. The final model shows good performance and can be further improved with additional techniques and real-time deployment.\n"
      ],
      "metadata": {
        "id": "rAVQDcBbQS-L"
      }
    }
  ]
}